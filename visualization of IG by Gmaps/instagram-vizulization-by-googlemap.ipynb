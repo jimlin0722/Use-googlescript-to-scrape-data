{
 "cells": [
  {
   "cell_type": "code",
   "execution_count": 1,
   "metadata": {},
   "outputs": [],
   "source": [
    "import csv\n",
    "import pandas as pd\n",
    "import numpy as np\n",
    "import gmaps\n",
    "gmaps.configure(api_key='YOUR_API_KEY')"
   ]
  },
  {
   "cell_type": "markdown",
   "metadata": {},
   "source": [
    "### Import the data\n",
    "Use the powerful packege [Instagram Scraper](https://github.com/rarcega/instagram-scraper) to scrape data.    \n",
    "Note that the scraper cannot get the latitude & longitude of the post, we can only find location_id.      \n",
    "Therefore, I use beautifulsoup to scrape the latitude & longitude from the page of location_id, in this notebook, the part of data cleaning will not be shown. "
   ]
  },
  {
   "cell_type": "code",
   "execution_count": 2,
   "metadata": {},
   "outputs": [
    {
     "data": {
      "text/html": [
       "<div>\n",
       "<style scoped>\n",
       "    .dataframe tbody tr th:only-of-type {\n",
       "        vertical-align: middle;\n",
       "    }\n",
       "\n",
       "    .dataframe tbody tr th {\n",
       "        vertical-align: top;\n",
       "    }\n",
       "\n",
       "    .dataframe thead th {\n",
       "        text-align: right;\n",
       "    }\n",
       "</style>\n",
       "<table border=\"1\" class=\"dataframe\">\n",
       "  <thead>\n",
       "    <tr style=\"text-align: right;\">\n",
       "      <th></th>\n",
       "      <th>display_url</th>\n",
       "      <th>like</th>\n",
       "      <th>content</th>\n",
       "      <th>comment</th>\n",
       "      <th>is_video</th>\n",
       "      <th>location</th>\n",
       "      <th>shortcode</th>\n",
       "      <th>tags</th>\n",
       "      <th>timestamp</th>\n",
       "      <th>username</th>\n",
       "      <th>location_id</th>\n",
       "      <th>city</th>\n",
       "      <th>country_code</th>\n",
       "      <th>time</th>\n",
       "      <th>hour</th>\n",
       "      <th>len(tags)</th>\n",
       "      <th>weekday</th>\n",
       "      <th>lat</th>\n",
       "      <th>long</th>\n",
       "      <th>video_view_count</th>\n",
       "    </tr>\n",
       "  </thead>\n",
       "  <tbody>\n",
       "    <tr>\n",
       "      <th>0</th>\n",
       "      <td>https://scontent-hkg3-2.cdninstagram.com/vp/d2...</td>\n",
       "      <td>4486</td>\n",
       "      <td>📍️Tokyo, Japan\\n小枝 / 塩バターキャラメル / ¥216(税込)\\n美味程...</td>\n",
       "      <td>14</td>\n",
       "      <td>False</td>\n",
       "      <td>Tokyo, Japan</td>\n",
       "      <td>Bt-Jr-ehpjo</td>\n",
       "      <td>['東京', '便利商店', '塩キャラメル', '4foodie', 'グルメ', '全家...</td>\n",
       "      <td>1550381192</td>\n",
       "      <td>4foodie</td>\n",
       "      <td>7.226110e+06</td>\n",
       "      <td>NaN</td>\n",
       "      <td>JP</td>\n",
       "      <td>2019-02-17 13:26:32</td>\n",
       "      <td>13</td>\n",
       "      <td>16</td>\n",
       "      <td>Sunday</td>\n",
       "      <td>35.680000</td>\n",
       "      <td>139.770000</td>\n",
       "      <td>NaN</td>\n",
       "    </tr>\n",
       "    <tr>\n",
       "      <th>1</th>\n",
       "      <td>https://scontent-hkg3-2.cdninstagram.com/vp/a9...</td>\n",
       "      <td>5585</td>\n",
       "      <td>📍Taipei, Taiwan\\nBonheur Cookie小小幸福手作烘培食事 @bon...</td>\n",
       "      <td>20</td>\n",
       "      <td>False</td>\n",
       "      <td>NaN</td>\n",
       "      <td>Bt8OQLHBml6</td>\n",
       "      <td>['甜點', '蛋糕', '台北美食', '草莓', '4foodie', '奶油餅', '...</td>\n",
       "      <td>1550316477</td>\n",
       "      <td>4foodie</td>\n",
       "      <td>0.000000e+00</td>\n",
       "      <td>NaN</td>\n",
       "      <td>NaN</td>\n",
       "      <td>2019-02-16 19:27:57</td>\n",
       "      <td>19</td>\n",
       "      <td>16</td>\n",
       "      <td>Saturday</td>\n",
       "      <td>NaN</td>\n",
       "      <td>NaN</td>\n",
       "      <td>NaN</td>\n",
       "    </tr>\n",
       "    <tr>\n",
       "      <th>2</th>\n",
       "      <td>https://scontent-hkg3-2.cdninstagram.com/vp/4c...</td>\n",
       "      <td>3642</td>\n",
       "      <td>📍San Gabriel, California \\n吴銘火鍋 Wu Ming Hot Po...</td>\n",
       "      <td>29</td>\n",
       "      <td>False</td>\n",
       "      <td>Wu Ming Hotpot</td>\n",
       "      <td>Bt74-6lhOh5</td>\n",
       "      <td>['加州美食', '洛杉磯美食', '鴛鴦鍋', '4foodie加州', 'wumingh...</td>\n",
       "      <td>1550305326</td>\n",
       "      <td>4foodie</td>\n",
       "      <td>2.220091e+14</td>\n",
       "      <td>San Gabriel, California</td>\n",
       "      <td>US</td>\n",
       "      <td>2019-02-16 16:22:06</td>\n",
       "      <td>16</td>\n",
       "      <td>14</td>\n",
       "      <td>Saturday</td>\n",
       "      <td>34.080580</td>\n",
       "      <td>-118.093010</td>\n",
       "      <td>NaN</td>\n",
       "    </tr>\n",
       "    <tr>\n",
       "      <th>3</th>\n",
       "      <td>https://scontent-hkg3-2.cdninstagram.com/vp/f9...</td>\n",
       "      <td>4562</td>\n",
       "      <td>感謝 @amos0716 的分享🙏🏻\\n🔹標記 #4foodieforfoodie 就有機會...</td>\n",
       "      <td>39</td>\n",
       "      <td>False</td>\n",
       "      <td>駁二藝術特區 The Pier-2 Art Center</td>\n",
       "      <td>Bt5kUlihaRr</td>\n",
       "      <td>['4foodie', '正面奶酥', '4foodie高雄', '麵包', '4foodi...</td>\n",
       "      <td>1550227384</td>\n",
       "      <td>4foodie</td>\n",
       "      <td>8.011200e+04</td>\n",
       "      <td>Kaohsiung, Taiwan</td>\n",
       "      <td>TW</td>\n",
       "      <td>2019-02-15 18:43:04</td>\n",
       "      <td>18</td>\n",
       "      <td>9</td>\n",
       "      <td>Friday</td>\n",
       "      <td>22.620228</td>\n",
       "      <td>120.281517</td>\n",
       "      <td>NaN</td>\n",
       "    </tr>\n",
       "    <tr>\n",
       "      <th>4</th>\n",
       "      <td>https://scontent-hkg3-2.cdninstagram.com/vp/ed...</td>\n",
       "      <td>7895</td>\n",
       "      <td>感謝 @missbestie_ 的分享🙏🏻\\n🔹標記 #4foodieforfoodie 就...</td>\n",
       "      <td>59</td>\n",
       "      <td>False</td>\n",
       "      <td>Little babee   小貝bee脆皮雞蛋糕</td>\n",
       "      <td>Bt41YjNhC8g</td>\n",
       "      <td>['高雄小吃', '甜點', '雞蛋糕', 'littlebabee', '新興區美食', ...</td>\n",
       "      <td>1550202775</td>\n",
       "      <td>4foodie</td>\n",
       "      <td>2.043458e+14</td>\n",
       "      <td>Kaohsiung, Taiwan</td>\n",
       "      <td>TW</td>\n",
       "      <td>2019-02-15 11:52:55</td>\n",
       "      <td>11</td>\n",
       "      <td>13</td>\n",
       "      <td>Friday</td>\n",
       "      <td>22.633450</td>\n",
       "      <td>120.309240</td>\n",
       "      <td>NaN</td>\n",
       "    </tr>\n",
       "  </tbody>\n",
       "</table>\n",
       "</div>"
      ],
      "text/plain": [
       "                                         display_url  like  \\\n",
       "0  https://scontent-hkg3-2.cdninstagram.com/vp/d2...  4486   \n",
       "1  https://scontent-hkg3-2.cdninstagram.com/vp/a9...  5585   \n",
       "2  https://scontent-hkg3-2.cdninstagram.com/vp/4c...  3642   \n",
       "3  https://scontent-hkg3-2.cdninstagram.com/vp/f9...  4562   \n",
       "4  https://scontent-hkg3-2.cdninstagram.com/vp/ed...  7895   \n",
       "\n",
       "                                             content  comment  is_video  \\\n",
       "0  📍️Tokyo, Japan\\n小枝 / 塩バターキャラメル / ¥216(税込)\\n美味程...       14     False   \n",
       "1  📍Taipei, Taiwan\\nBonheur Cookie小小幸福手作烘培食事 @bon...       20     False   \n",
       "2  📍San Gabriel, California \\n吴銘火鍋 Wu Ming Hot Po...       29     False   \n",
       "3  感謝 @amos0716 的分享🙏🏻\\n🔹標記 #4foodieforfoodie 就有機會...       39     False   \n",
       "4  感謝 @missbestie_ 的分享🙏🏻\\n🔹標記 #4foodieforfoodie 就...       59     False   \n",
       "\n",
       "                       location    shortcode  \\\n",
       "0                  Tokyo, Japan  Bt-Jr-ehpjo   \n",
       "1                           NaN  Bt8OQLHBml6   \n",
       "2                Wu Ming Hotpot  Bt74-6lhOh5   \n",
       "3  駁二藝術特區 The Pier-2 Art Center  Bt5kUlihaRr   \n",
       "4     Little babee   小貝bee脆皮雞蛋糕  Bt41YjNhC8g   \n",
       "\n",
       "                                                tags   timestamp username  \\\n",
       "0  ['東京', '便利商店', '塩キャラメル', '4foodie', 'グルメ', '全家...  1550381192  4foodie   \n",
       "1  ['甜點', '蛋糕', '台北美食', '草莓', '4foodie', '奶油餅', '...  1550316477  4foodie   \n",
       "2  ['加州美食', '洛杉磯美食', '鴛鴦鍋', '4foodie加州', 'wumingh...  1550305326  4foodie   \n",
       "3  ['4foodie', '正面奶酥', '4foodie高雄', '麵包', '4foodi...  1550227384  4foodie   \n",
       "4  ['高雄小吃', '甜點', '雞蛋糕', 'littlebabee', '新興區美食', ...  1550202775  4foodie   \n",
       "\n",
       "    location_id                     city country_code                 time  \\\n",
       "0  7.226110e+06                      NaN           JP  2019-02-17 13:26:32   \n",
       "1  0.000000e+00                      NaN          NaN  2019-02-16 19:27:57   \n",
       "2  2.220091e+14  San Gabriel, California           US  2019-02-16 16:22:06   \n",
       "3  8.011200e+04        Kaohsiung, Taiwan           TW  2019-02-15 18:43:04   \n",
       "4  2.043458e+14        Kaohsiung, Taiwan           TW  2019-02-15 11:52:55   \n",
       "\n",
       "   hour  len(tags)   weekday        lat        long  video_view_count  \n",
       "0    13         16    Sunday  35.680000  139.770000               NaN  \n",
       "1    19         16  Saturday        NaN         NaN               NaN  \n",
       "2    16         14  Saturday  34.080580 -118.093010               NaN  \n",
       "3    18          9    Friday  22.620228  120.281517               NaN  \n",
       "4    11         13    Friday  22.633450  120.309240               NaN  "
      ]
     },
     "execution_count": 2,
     "metadata": {},
     "output_type": "execute_result"
    }
   ],
   "source": [
    "df_4foodie = pd.read_csv('YOUR_FILE_PATH',sep='\\t', encoding='utf-8')\n",
    "df_4foodie.drop(['Unnamed: 0'],axis = 1, inplace = True)\n",
    "df_4foodie.head()"
   ]
  },
  {
   "cell_type": "code",
   "execution_count": 3,
   "metadata": {},
   "outputs": [
    {
     "name": "stdout",
     "output_type": "stream",
     "text": [
      "There are 2416 data we can draw on google map\n"
     ]
    }
   ],
   "source": [
    "print('There are ' + str(int(df_4foodie.describe().at['count', 'lat'])) + ' data we can draw on google map')"
   ]
  },
  {
   "cell_type": "markdown",
   "metadata": {},
   "source": [
    "### Heatmap"
   ]
  },
  {
   "cell_type": "code",
   "execution_count": 4,
   "metadata": {},
   "outputs": [
    {
     "data": {
      "application/vnd.jupyter.widget-view+json": {
       "model_id": "4c221632089248babb23e31f97d89056",
       "version_major": 2,
       "version_minor": 0
      },
      "text/plain": [
       "Figure(layout=FigureLayout(height='420px'))"
      ]
     },
     "metadata": {},
     "output_type": "display_data"
    }
   ],
   "source": [
    "locations = []\n",
    "for i in range(len(df_4foodie)):\n",
    "    if pd.isna(df_4foodie.lat[i]) == False:\n",
    "        locations.append((float(df_4foodie.lat[i]), float(df_4foodie.long[i])))\n",
    "taipei = (25.04776, 121.53185)\n",
    "fig = gmaps.figure(center=taipei, zoom_level=13)\n",
    "heatmap_layer = gmaps.heatmap_layer(\n",
    "    locations, point_radius = 20 , max_intensity=30)\n",
    "fig.add_layer(heatmap_layer)\n",
    "fig"
   ]
  },
  {
   "cell_type": "markdown",
   "metadata": {},
   "source": [
    "### Marker map"
   ]
  },
  {
   "cell_type": "markdown",
   "metadata": {},
   "source": [
    "Prepar for embedding the post in the info box of marker map"
   ]
  },
  {
   "cell_type": "code",
   "execution_count": 5,
   "metadata": {},
   "outputs": [],
   "source": [
    "form_info_box = '''\n",
    "<iframe frameborder=\"0\" src=\"https://instagram.com/p/{shortcode}/embed/\" width=\"100%\" height=\"500\" scrolling=\"no\" allowtransparency=\"true\" class=\"note-video-clip\">\n",
    "</iframe>\n",
    "'''"
   ]
  },
  {
   "cell_type": "code",
   "execution_count": 6,
   "metadata": {},
   "outputs": [
    {
     "data": {
      "application/vnd.jupyter.widget-view+json": {
       "model_id": "98281fe882114e199755a01007f4698d",
       "version_major": 2,
       "version_minor": 0
      },
      "text/plain": [
       "Figure(layout=FigureLayout(height='420px'))"
      ]
     },
     "metadata": {},
     "output_type": "display_data"
    }
   ],
   "source": [
    "info_box_lst = []\n",
    "locations = []\n",
    "#Since too many markers will diminish the readability and cause Jupyter Notebook lag, I use 100 instead of all data.\n",
    "for i in range(100): \n",
    "    if pd.isna(df_4foodie.lat[i]) == False:\n",
    "        locations.append((float(df_4foodie.lat[i]), float(df_4foodie.long[i])))\n",
    "        info_box_lst.append(form_info_box.format(shortcode = df_4foodie.at[i,\"shortcode\"]))\n",
    "taipei = (25.04776, 121.53185)\n",
    "fig2 = gmaps.figure(center=taipei, zoom_level=12)\n",
    "marker_layer = gmaps.marker_layer(locations, info_box_content=info_box_lst)\n",
    "fig2.add_layer(marker_layer)\n",
    "fig2"
   ]
  },
  {
   "cell_type": "markdown",
   "metadata": {},
   "source": [
    "You can also put other information in the info box using HTML form,  \n",
    "but I think the interface is good enough if we just embed the post"
   ]
  }
 ],
 "metadata": {
  "kernelspec": {
   "display_name": "Python 3",
   "language": "python",
   "name": "python3"
  },
  "language_info": {
   "codemirror_mode": {
    "name": "ipython",
    "version": 3
   },
   "file_extension": ".py",
   "mimetype": "text/x-python",
   "name": "python",
   "nbconvert_exporter": "python",
   "pygments_lexer": "ipython3",
   "version": "3.7.2"
  }
 },
 "nbformat": 4,
 "nbformat_minor": 2
}
